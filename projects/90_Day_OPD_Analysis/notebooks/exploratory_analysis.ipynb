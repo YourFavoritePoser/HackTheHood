{
 "cells": [
  {
   "cell_type": "code",
   "execution_count": 3,
   "metadata": {},
   "outputs": [],
   "source": [
    "import pandas as pd\n",
    "import os\n",
    "\n",
    "data_path = os.path.join('..', 'data', 'cases.csv')\n",
    "\n",
    "df = pd.read_csv(data_path)"
   ]
  },
  {
   "cell_type": "code",
   "execution_count": 12,
   "metadata": {},
   "outputs": [
    {
     "name": "stdout",
     "output_type": "stream",
     "text": [
      "            CRIMETYPE                DATETIME CASENUMBER        DESCRIPTION  \\\n",
      "0  BURG - RESIDENTIAL  05/17/2024 12:00:00 PM  24-025517          VANDALISM   \n",
      "1               OTHER  05/27/2024 08:00:00 PM  24-026171  CRIMINAL CONTEMPT   \n",
      "2         PETTY THEFT  05/24/2024 08:30:00 PM  24-026669              THEFT   \n",
      "3             Unknown  05/31/2024 08:09:00 PM  24-027052              THEFT   \n",
      "4             Unknown  05/30/2024 12:01:00 AM  24-027125          EXTORTION   \n",
      "\n",
      "  POLICEBEAT           ADDRESS     CITY STATE  \\\n",
      "0        13X  5100 COCHRANE AV  Oakland    CA   \n",
      "1        03Y        455 7TH ST  Oakland    CA   \n",
      "2        06X       809 28TH ST  Oakland    CA   \n",
      "3        20X    3060 E. 9TH ST  Oakland    CA   \n",
      "4        03Y        455 7TH ST  Oakland    CA   \n",
      "\n",
      "                              Location  \n",
      "0  POINT (-122.224771037 37.839044006)  \n",
      "1  POINT (-122.275068994 37.799400998)  \n",
      "2   POINT (-122.274229648 37.81821139)  \n",
      "3  POINT (-122.229767992 37.775290999)  \n",
      "4  POINT (-122.275068994 37.799400998)  \n"
     ]
    }
   ],
   "source": [
    "df_cleaned = df.\n",
    "\n",
    "\n",
    "df['CRIMETYPE'].fillna('Unknown', inplace=True)\n",
    "\n",
    "print(f\"{df.head()}\")\n"
   ]
  },
  {
   "cell_type": "code",
   "execution_count": 14,
   "metadata": {},
   "outputs": [
    {
     "name": "stdout",
     "output_type": "stream",
     "text": [
      "CRIMETYPE        0\n",
      "DATETIME         0\n",
      "CASENUMBER       0\n",
      "DESCRIPTION      0\n",
      "POLICEBEAT     414\n",
      "ADDRESS          2\n",
      "CITY             0\n",
      "STATE            0\n",
      "Location         0\n",
      "dtype: int64\n"
     ]
    }
   ],
   "source": [
    "print(f\"{df.isnull().sum()}\")"
   ]
  }
 ],
 "metadata": {
  "kernelspec": {
   "display_name": "venv",
   "language": "python",
   "name": "python3"
  },
  "language_info": {
   "codemirror_mode": {
    "name": "ipython",
    "version": 3
   },
   "file_extension": ".py",
   "mimetype": "text/x-python",
   "name": "python",
   "nbconvert_exporter": "python",
   "pygments_lexer": "ipython3",
   "version": "3.11.6"
  }
 },
 "nbformat": 4,
 "nbformat_minor": 2
}
