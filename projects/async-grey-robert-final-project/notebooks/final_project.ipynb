{
 "cells": [
  {
   "cell_type": "code",
   "execution_count": 1,
   "metadata": {},
   "outputs": [],
   "source": [
    "import pandas as pd\n",
    "import matplotlib.pyplot as plt\n",
    "import seaborn as sbn\n",
    "import os\n",
    "import sys\n",
    "\n",
    "sys.path.append(os.path.abspath(os.path.join('..')))\n",
    "from scripts.mappings import beat_to_area, area_to_neighborhood  # Corrected import\n",
    "\n",
    "data_path = os.path.join('..', 'data', 'cases.csv')\n",
    "df_cleaned = pd.read_csv(data_path)\n"
   ]
  },
  {
   "cell_type": "code",
   "execution_count": 8,
   "metadata": {},
   "outputs": [
    {
     "name": "stdout",
     "output_type": "stream",
     "text": [
      "   POLICEBEAT    Area                 Neighborhood\n",
      "0         13X  Area 2                North Oakland\n",
      "1         03Y  Area 1      Downtown & West Oakland\n",
      "2         06X  Area 1      Downtown & West Oakland\n",
      "3         20X  Area 3    Lake Merritt East Oakland\n",
      "4         03Y  Area 1      Downtown & West Oakland\n",
      "5         24Y  Area 4        High St. East Oakland\n",
      "6         10X  Area 2                North Oakland\n",
      "7         27Y  Area 4        High St. East Oakland\n",
      "8         27Y  Area 4        High St. East Oakland\n",
      "9         30X  Area 5  Deep East Oakland & Airport\n",
      "10        26Y  Area 4        High St. East Oakland\n",
      "11        17Y  Area 3    Lake Merritt East Oakland\n",
      "12        03Y  Area 1      Downtown & West Oakland\n",
      "13        13Z  Area 2                North Oakland\n",
      "14        27Y  Area 4        High St. East Oakland\n",
      "15        33X  Area 5  Deep East Oakland & Airport\n",
      "16        16Y  Area 3    Lake Merritt East Oakland\n",
      "17        29X  Area 5  Deep East Oakland & Airport\n",
      "18        04X  Area 1      Downtown & West Oakland\n",
      "19        12Y  Area 2                North Oakland\n"
     ]
    }
   ],
   "source": [
    "# First, map police beats to broader areas\n",
    "df_cleaned['Area'] = df_cleaned['POLICEBEAT'].map(beat_to_area)\n",
    "# Then, map the broader areas to descriptive neighborhood names\n",
    "df_cleaned['Neighborhood'] = df_cleaned['Area'].map(area_to_neighborhood)\n",
    "\n",
    "# Display the first few rows to verify\n",
    "print(df_cleaned[['POLICEBEAT', 'Area', 'Neighborhood']].head(20))"
   ]
  }
 ],
 "metadata": {
  "kernelspec": {
   "display_name": "venv",
   "language": "python",
   "name": "python3"
  },
  "language_info": {
   "codemirror_mode": {
    "name": "ipython",
    "version": 3
   },
   "file_extension": ".py",
   "mimetype": "text/x-python",
   "name": "python",
   "nbconvert_exporter": "python",
   "pygments_lexer": "ipython3",
   "version": "3.11.6"
  }
 },
 "nbformat": 4,
 "nbformat_minor": 2
}
