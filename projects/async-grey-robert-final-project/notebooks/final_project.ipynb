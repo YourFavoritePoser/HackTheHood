{
 "cells": [
  {
   "cell_type": "code",
   "execution_count": 12,
   "metadata": {},
   "outputs": [],
   "source": [
    "import pandas as pd\n",
    "import matplotlib.pyplot as plt\n",
    "import seaborn as sbn\n",
    "import os\n",
    "import sys\n",
    "\n",
    "sys.path.append(os.path.abspath(os.path.join('..')))\n",
    "from scripts.mappings import beat_to_area\n",
    "\n",
    "\n",
    "data_path = os.path.join('..', 'data', 'cases.csv')\n",
    "df_cleaned = pd.read_csv(data_path)"
   ]
  },
  {
   "cell_type": "code",
   "execution_count": 14,
   "metadata": {},
   "outputs": [
    {
     "name": "stdout",
     "output_type": "stream",
     "text": [
      "Area\n",
      "Area 5    2720\n",
      "Area 3    2555\n",
      "Area 2    2294\n",
      "Area 1    2194\n",
      "Area 4    2102\n",
      "Name: count, dtype: int64\n"
     ]
    }
   ],
   "source": [
    "df_cleaned['Area'] = df_cleaned['POLICEBEAT'].map(beat_to_area)\n",
    "\n",
    "incidents_by_area = df_cleaned['Area'].value_counts()\n",
    "\n",
    "print(incidents_by_area)"
   ]
  }
 ],
 "metadata": {
  "kernelspec": {
   "display_name": "venv",
   "language": "python",
   "name": "python3"
  },
  "language_info": {
   "codemirror_mode": {
    "name": "ipython",
    "version": 3
   },
   "file_extension": ".py",
   "mimetype": "text/x-python",
   "name": "python",
   "nbconvert_exporter": "python",
   "pygments_lexer": "ipython3",
   "version": "3.11.6"
  }
 },
 "nbformat": 4,
 "nbformat_minor": 2
}
